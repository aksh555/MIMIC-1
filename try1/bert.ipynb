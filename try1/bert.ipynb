{
 "cells": [
  {
   "cell_type": "code",
   "execution_count": 1,
   "metadata": {},
   "outputs": [
    {
     "name": "stdout",
     "output_type": "stream",
     "text": [
      "(45526, 504)\n"
     ]
    },
    {
     "data": {
      "text/plain": [
       "(45526, 21)"
      ]
     },
     "execution_count": 1,
     "metadata": {},
     "output_type": "execute_result"
    }
   ],
   "source": [
    "import pandas as pd\n",
    "combined_dataset = pd.read_pickle('../combined_dataset_notes.pkl')\n",
    "\n",
    "\n",
    "combined_dataset = combined_dataset.drop(['HADM_ID'], axis=1)\n",
    "print(combined_dataset.shape)\n",
    "combined_dataset.head()\n",
    "\n",
    "only_text = combined_dataset[[\"text\",\"G1\",\"G2\",\"G3\",\"G4\",\"G5\",\"G6\",\"G7\",\"G8\",\"G9\",\"G10\",\"G11\",\"G12\",\"G13\",\"G14\",\"G15\",\"G16\",\"G17\",\"G18\",\"G19\",\"G20\"]]\n",
    "only_text.shape\n",
    "\n"
   ]
  },
  {
   "cell_type": "code",
   "execution_count": 2,
   "metadata": {},
   "outputs": [],
   "source": [
    "y = only_text.iloc[:,1:]\n",
    "x = only_text.iloc[:,:1]"
   ]
  },
  {
   "cell_type": "code",
   "execution_count": 4,
   "metadata": {},
   "outputs": [
    {
     "name": "stdout",
     "output_type": "stream",
     "text": [
      "Requirement already satisfied: tensorflow>=2.0.0 in /home/akshara/anaconda3/lib/python3.7/site-packages (2.1.0)\n",
      "Requirement already satisfied: gast==0.2.2 in /home/akshara/anaconda3/lib/python3.7/site-packages (from tensorflow>=2.0.0) (0.2.2)\n",
      "Requirement already satisfied: scipy==1.4.1; python_version >= \"3\" in /home/akshara/anaconda3/lib/python3.7/site-packages (from tensorflow>=2.0.0) (1.4.1)\n",
      "Requirement already satisfied: absl-py>=0.7.0 in /home/akshara/anaconda3/lib/python3.7/site-packages (from tensorflow>=2.0.0) (0.9.0)\n",
      "Requirement already satisfied: termcolor>=1.1.0 in /home/akshara/anaconda3/lib/python3.7/site-packages (from tensorflow>=2.0.0) (1.1.0)\n",
      "Requirement already satisfied: astor>=0.6.0 in /home/akshara/anaconda3/lib/python3.7/site-packages (from tensorflow>=2.0.0) (0.8.1)\n",
      "Requirement already satisfied: keras-applications>=1.0.8 in /home/akshara/anaconda3/lib/python3.7/site-packages (from tensorflow>=2.0.0) (1.0.8)\n",
      "Requirement already satisfied: protobuf>=3.8.0 in /home/akshara/anaconda3/lib/python3.7/site-packages (from tensorflow>=2.0.0) (3.11.2)\n",
      "Requirement already satisfied: six>=1.12.0 in /home/akshara/anaconda3/lib/python3.7/site-packages (from tensorflow>=2.0.0) (1.12.0)\n",
      "Requirement already satisfied: opt-einsum>=2.3.2 in /home/akshara/anaconda3/lib/python3.7/site-packages (from tensorflow>=2.0.0) (3.1.0)\n",
      "Requirement already satisfied: tensorflow-estimator<2.2.0,>=2.1.0rc0 in /home/akshara/anaconda3/lib/python3.7/site-packages (from tensorflow>=2.0.0) (2.1.0)\n",
      "Requirement already satisfied: grpcio>=1.8.6 in /home/akshara/anaconda3/lib/python3.7/site-packages (from tensorflow>=2.0.0) (1.26.0)\n",
      "Requirement already satisfied: google-pasta>=0.1.6 in /home/akshara/anaconda3/lib/python3.7/site-packages (from tensorflow>=2.0.0) (0.1.8)\n",
      "Requirement already satisfied: keras-preprocessing>=1.1.0 in /home/akshara/anaconda3/lib/python3.7/site-packages (from tensorflow>=2.0.0) (1.1.0)\n",
      "Requirement already satisfied: wheel>=0.26; python_version >= \"3\" in /home/akshara/anaconda3/lib/python3.7/site-packages (from tensorflow>=2.0.0) (0.33.6)\n",
      "Requirement already satisfied: numpy<2.0,>=1.16.0 in /home/akshara/anaconda3/lib/python3.7/site-packages (from tensorflow>=2.0.0) (1.18.1)\n",
      "Requirement already satisfied: wrapt>=1.11.1 in /home/akshara/anaconda3/lib/python3.7/site-packages (from tensorflow>=2.0.0) (1.11.2)\n",
      "Requirement already satisfied: tensorboard<2.2.0,>=2.1.0 in /home/akshara/anaconda3/lib/python3.7/site-packages (from tensorflow>=2.0.0) (2.1.0)\n",
      "Requirement already satisfied: h5py in /home/akshara/anaconda3/lib/python3.7/site-packages (from keras-applications>=1.0.8->tensorflow>=2.0.0) (2.8.0)\n",
      "Requirement already satisfied: setuptools in /home/akshara/anaconda3/lib/python3.7/site-packages (from protobuf>=3.8.0->tensorflow>=2.0.0) (41.4.0)\n",
      "Requirement already satisfied: requests<3,>=2.21.0 in /home/akshara/anaconda3/lib/python3.7/site-packages (from tensorboard<2.2.0,>=2.1.0->tensorflow>=2.0.0) (2.22.0)\n",
      "Requirement already satisfied: google-auth<2,>=1.6.3 in /home/akshara/anaconda3/lib/python3.7/site-packages (from tensorboard<2.2.0,>=2.1.0->tensorflow>=2.0.0) (1.10.0)\n",
      "Requirement already satisfied: werkzeug>=0.11.15 in /home/akshara/anaconda3/lib/python3.7/site-packages (from tensorboard<2.2.0,>=2.1.0->tensorflow>=2.0.0) (0.16.0)\n",
      "Requirement already satisfied: markdown>=2.6.8 in /home/akshara/anaconda3/lib/python3.7/site-packages (from tensorboard<2.2.0,>=2.1.0->tensorflow>=2.0.0) (3.1.1)\n",
      "Requirement already satisfied: google-auth-oauthlib<0.5,>=0.4.1 in /home/akshara/anaconda3/lib/python3.7/site-packages (from tensorboard<2.2.0,>=2.1.0->tensorflow>=2.0.0) (0.4.1)\n",
      "Requirement already satisfied: idna<2.9,>=2.5 in /home/akshara/anaconda3/lib/python3.7/site-packages (from requests<3,>=2.21.0->tensorboard<2.2.0,>=2.1.0->tensorflow>=2.0.0) (2.8)\n",
      "Requirement already satisfied: urllib3!=1.25.0,!=1.25.1,<1.26,>=1.21.1 in /home/akshara/anaconda3/lib/python3.7/site-packages (from requests<3,>=2.21.0->tensorboard<2.2.0,>=2.1.0->tensorflow>=2.0.0) (1.24.2)\n",
      "Requirement already satisfied: chardet<3.1.0,>=3.0.2 in /home/akshara/anaconda3/lib/python3.7/site-packages (from requests<3,>=2.21.0->tensorboard<2.2.0,>=2.1.0->tensorflow>=2.0.0) (3.0.4)\n",
      "Requirement already satisfied: certifi>=2017.4.17 in /home/akshara/anaconda3/lib/python3.7/site-packages (from requests<3,>=2.21.0->tensorboard<2.2.0,>=2.1.0->tensorflow>=2.0.0) (2019.11.28)\n",
      "Requirement already satisfied: cachetools<5.0,>=2.0.0 in /home/akshara/anaconda3/lib/python3.7/site-packages (from google-auth<2,>=1.6.3->tensorboard<2.2.0,>=2.1.0->tensorflow>=2.0.0) (4.0.0)\n",
      "Requirement already satisfied: pyasn1-modules>=0.2.1 in /home/akshara/anaconda3/lib/python3.7/site-packages (from google-auth<2,>=1.6.3->tensorboard<2.2.0,>=2.1.0->tensorflow>=2.0.0) (0.2.2)\n",
      "Requirement already satisfied: rsa<4.1,>=3.1.4 in /home/akshara/anaconda3/lib/python3.7/site-packages (from google-auth<2,>=1.6.3->tensorboard<2.2.0,>=2.1.0->tensorflow>=2.0.0) (4.0)\n",
      "Requirement already satisfied: requests-oauthlib>=0.7.0 in /home/akshara/anaconda3/lib/python3.7/site-packages (from google-auth-oauthlib<0.5,>=0.4.1->tensorboard<2.2.0,>=2.1.0->tensorflow>=2.0.0) (1.3.0)\n",
      "Requirement already satisfied: pyasn1<0.5.0,>=0.4.1 in /home/akshara/anaconda3/lib/python3.7/site-packages (from pyasn1-modules>=0.2.1->google-auth<2,>=1.6.3->tensorboard<2.2.0,>=2.1.0->tensorflow>=2.0.0) (0.4.4)\n",
      "Requirement already satisfied: oauthlib>=3.0.0 in /home/akshara/anaconda3/lib/python3.7/site-packages (from requests-oauthlib>=0.7.0->google-auth-oauthlib<0.5,>=0.4.1->tensorboard<2.2.0,>=2.1.0->tensorflow>=2.0.0) (3.1.0)\n",
      "Requirement already up-to-date: tensorflow-hub in /home/akshara/anaconda3/lib/python3.7/site-packages (0.7.0)\n",
      "Requirement already satisfied, skipping upgrade: numpy>=1.12.0 in /home/akshara/anaconda3/lib/python3.7/site-packages (from tensorflow-hub) (1.18.1)\n",
      "Requirement already satisfied, skipping upgrade: six>=1.10.0 in /home/akshara/anaconda3/lib/python3.7/site-packages (from tensorflow-hub) (1.12.0)\n",
      "Requirement already satisfied, skipping upgrade: protobuf>=3.4.0 in /home/akshara/anaconda3/lib/python3.7/site-packages (from tensorflow-hub) (3.11.2)\n",
      "Requirement already satisfied, skipping upgrade: setuptools in /home/akshara/anaconda3/lib/python3.7/site-packages (from protobuf>=3.4.0->tensorflow-hub) (41.4.0)\n",
      "Requirement already satisfied: tensorflow-hub>=0.3 in /home/akshara/anaconda3/lib/python3.7/site-packages (0.7.0)\n",
      "Requirement already satisfied: numpy>=1.12.0 in /home/akshara/anaconda3/lib/python3.7/site-packages (from tensorflow-hub>=0.3) (1.18.1)\n",
      "Requirement already satisfied: six>=1.10.0 in /home/akshara/anaconda3/lib/python3.7/site-packages (from tensorflow-hub>=0.3) (1.12.0)\n",
      "Requirement already satisfied: protobuf>=3.4.0 in /home/akshara/anaconda3/lib/python3.7/site-packages (from tensorflow-hub>=0.3) (3.11.2)\n",
      "Requirement already satisfied: setuptools in /home/akshara/anaconda3/lib/python3.7/site-packages (from protobuf>=3.4.0->tensorflow-hub>=0.3) (41.4.0)\n"
     ]
    }
   ],
   "source": [
    "!pip install \"tensorflow>=2.0.0\"\n",
    "!pip install --upgrade tensorflow-hub\n",
    "!pip install \"tensorflow-hub>=0.3\"\n",
    "import tensorflow as tf\n",
    "import tensorflow_hub as hub\n",
    "\n"
   ]
  },
  {
   "cell_type": "code",
   "execution_count": null,
   "metadata": {},
   "outputs": [],
   "source": [
    "hub_url = \"https://tfhub.dev/google/tf2-preview/nnlm-en-dim128/1\"\n",
    "embed = hub.KerasLayer(hub_url)\n",
    "embeddings = embed([\"A long sentence.\", \"single-word\", \"http://example.com\"])\n",
    "print(embeddings.shape, embeddings.dtype)"
   ]
  },
  {
   "cell_type": "code",
   "execution_count": 5,
   "metadata": {},
   "outputs": [
    {
     "ename": "NameError",
     "evalue": "name 'model' is not defined",
     "output_type": "error",
     "traceback": [
      "\u001b[0;31m---------------------------------------------------------------------------\u001b[0m",
      "\u001b[0;31mNameError\u001b[0m                                 Traceback (most recent call last)",
      "\u001b[0;32m<ipython-input-5-5aec613ff757>\u001b[0m in \u001b[0;36m<module>\u001b[0;34m\u001b[0m\n\u001b[1;32m      1\u001b[0m \u001b[0;32mimport\u001b[0m \u001b[0mnumpy\u001b[0m \u001b[0;32mas\u001b[0m \u001b[0mnp\u001b[0m\u001b[0;34m\u001b[0m\u001b[0;34m\u001b[0m\u001b[0m\n\u001b[0;32m----> 2\u001b[0;31m \u001b[0mWordVectorz\u001b[0m\u001b[0;34m=\u001b[0m\u001b[0mdict\u001b[0m\u001b[0;34m(\u001b[0m\u001b[0mzip\u001b[0m\u001b[0;34m(\u001b[0m\u001b[0mmodel\u001b[0m\u001b[0;34m.\u001b[0m\u001b[0mwv\u001b[0m\u001b[0;34m.\u001b[0m\u001b[0mindex2word\u001b[0m\u001b[0;34m,\u001b[0m\u001b[0mmodel\u001b[0m\u001b[0;34m.\u001b[0m\u001b[0mwv\u001b[0m\u001b[0;34m.\u001b[0m\u001b[0mvectors\u001b[0m\u001b[0;34m)\u001b[0m\u001b[0;34m)\u001b[0m\u001b[0;34m\u001b[0m\u001b[0;34m\u001b[0m\u001b[0m\n\u001b[0m\u001b[1;32m      3\u001b[0m \u001b[0;32mclass\u001b[0m \u001b[0mAverageEmbeddingVectorizer\u001b[0m\u001b[0;34m(\u001b[0m\u001b[0mobject\u001b[0m\u001b[0;34m)\u001b[0m\u001b[0;34m:\u001b[0m\u001b[0;34m\u001b[0m\u001b[0;34m\u001b[0m\u001b[0m\n\u001b[1;32m      4\u001b[0m     \u001b[0;32mdef\u001b[0m \u001b[0m__init__\u001b[0m\u001b[0;34m(\u001b[0m\u001b[0mself\u001b[0m\u001b[0;34m,\u001b[0m \u001b[0mword2vec\u001b[0m\u001b[0;34m)\u001b[0m\u001b[0;34m:\u001b[0m\u001b[0;34m\u001b[0m\u001b[0;34m\u001b[0m\u001b[0m\n\u001b[1;32m      5\u001b[0m         \u001b[0mself\u001b[0m\u001b[0;34m.\u001b[0m\u001b[0mword2vec\u001b[0m \u001b[0;34m=\u001b[0m \u001b[0mword2vec\u001b[0m\u001b[0;34m\u001b[0m\u001b[0;34m\u001b[0m\u001b[0m\n",
      "\u001b[0;31mNameError\u001b[0m: name 'model' is not defined"
     ]
    }
   ],
   "source": [
    "import numpy as np\n",
    "WordVectorz=dict(zip(model.wv.index2word,model.wv.vectors))\n",
    "class AverageEmbeddingVectorizer(object):\n",
    "    def __init__(self, word2vec):\n",
    "        self.word2vec = word2vec\n",
    "        # if a text is empty we should return a vector of zeros\n",
    "        # with the same dimensionality as all the other vectors\n",
    "        self.dim =100 # because we use 100 embedding points \n",
    "\n",
    "    def fit(self, X, y):\n",
    "        return self\n",
    "\n",
    "    def transform(self, X):\n",
    "        return np.array([\n",
    "            np.mean([self.word2vec[w] for w in words if w in self.word2vec]\n",
    "                    or [np.zeros(self.dim)], axis=0)\n",
    "            for words in X\n",
    "        ])\n",
    "AverageEmbeddingVectorizer(WordVectorz)\n",
    "AverageEmbeddingVectorizer(WordVectorz).fit(x.text,y)\n",
    "x = AverageEmbeddingVectorizer(WordVectorz).transform(x.text)\n",
    "#x_test = AverageEmbeddingVectorizer(WordVectorz).transform(x_test)\n",
    "#x_val = AverageEmbeddingVectorizer(WordVectorz).transform(x_val)"
   ]
  },
  {
   "cell_type": "code",
   "execution_count": null,
   "metadata": {},
   "outputs": [],
   "source": []
  }
 ],
 "metadata": {
  "kernelspec": {
   "display_name": "Python (mimic)",
   "language": "python",
   "name": "myenv"
  },
  "language_info": {
   "codemirror_mode": {
    "name": "ipython",
    "version": 3
   },
   "file_extension": ".py",
   "mimetype": "text/x-python",
   "name": "python",
   "nbconvert_exporter": "python",
   "pygments_lexer": "ipython3",
   "version": "3.7.4"
  }
 },
 "nbformat": 4,
 "nbformat_minor": 2
}
