{
 "cells": [
  {
   "cell_type": "markdown",
   "metadata": {},
   "source": [
    "## Various models"
   ]
  },
  {
   "cell_type": "markdown",
   "metadata": {},
   "source": [
    "Loading processed dataset from pickle file"
   ]
  },
  {
   "cell_type": "code",
   "execution_count": 1,
   "metadata": {},
   "outputs": [],
   "source": [
    "import pandas as pd\n",
    "import datetime as dt\n",
    "from datetime import date,time,datetime\n",
    "from sklearn.preprocessing import LabelEncoder\n",
    "from sklearn.preprocessing import MultiLabelBinarizer\n",
    "lbl = LabelEncoder()\n",
    "mlb = MultiLabelBinarizer()\n",
    "import numpy as np"
   ]
  },
  {
   "cell_type": "code",
   "execution_count": 2,
   "metadata": {},
   "outputs": [],
   "source": [
    "df = pd.read_pickle(\"./dataset.pkl\")"
   ]
  },
  {
   "cell_type": "code",
   "execution_count": 3,
   "metadata": {},
   "outputs": [
    {
     "data": {
      "text/html": [
       "<div>\n",
       "<style scoped>\n",
       "    .dataframe tbody tr th:only-of-type {\n",
       "        vertical-align: middle;\n",
       "    }\n",
       "\n",
       "    .dataframe tbody tr th {\n",
       "        vertical-align: top;\n",
       "    }\n",
       "\n",
       "    .dataframe thead th {\n",
       "        text-align: right;\n",
       "    }\n",
       "</style>\n",
       "<table border=\"1\" class=\"dataframe\">\n",
       "  <thead>\n",
       "    <tr style=\"text-align: right;\">\n",
       "      <th></th>\n",
       "      <th>ADMISSION_DAYS</th>\n",
       "      <th>GENDER</th>\n",
       "      <th>AGE</th>\n",
       "      <th>50801</th>\n",
       "      <th>50802</th>\n",
       "      <th>50803</th>\n",
       "      <th>50804</th>\n",
       "      <th>50805</th>\n",
       "      <th>50806</th>\n",
       "      <th>50808</th>\n",
       "      <th>...</th>\n",
       "      <th>G11</th>\n",
       "      <th>G12</th>\n",
       "      <th>G13</th>\n",
       "      <th>G14</th>\n",
       "      <th>G15</th>\n",
       "      <th>G16</th>\n",
       "      <th>G17</th>\n",
       "      <th>G18</th>\n",
       "      <th>G19</th>\n",
       "      <th>G20</th>\n",
       "    </tr>\n",
       "  </thead>\n",
       "  <tbody>\n",
       "    <tr>\n",
       "      <td>0</td>\n",
       "      <td>2</td>\n",
       "      <td>0</td>\n",
       "      <td>65</td>\n",
       "      <td>462.0</td>\n",
       "      <td>0.0</td>\n",
       "      <td>24.0</td>\n",
       "      <td>22.0</td>\n",
       "      <td>1.0</td>\n",
       "      <td>104.0</td>\n",
       "      <td>1.12</td>\n",
       "      <td>...</td>\n",
       "      <td>0</td>\n",
       "      <td>0</td>\n",
       "      <td>0</td>\n",
       "      <td>0</td>\n",
       "      <td>0</td>\n",
       "      <td>0</td>\n",
       "      <td>0</td>\n",
       "      <td>1</td>\n",
       "      <td>1</td>\n",
       "      <td>0</td>\n",
       "    </tr>\n",
       "    <tr>\n",
       "      <td>1</td>\n",
       "      <td>6</td>\n",
       "      <td>1</td>\n",
       "      <td>71</td>\n",
       "      <td>462.0</td>\n",
       "      <td>0.0</td>\n",
       "      <td>24.0</td>\n",
       "      <td>26.0</td>\n",
       "      <td>1.0</td>\n",
       "      <td>104.0</td>\n",
       "      <td>1.20</td>\n",
       "      <td>...</td>\n",
       "      <td>0</td>\n",
       "      <td>0</td>\n",
       "      <td>0</td>\n",
       "      <td>0</td>\n",
       "      <td>0</td>\n",
       "      <td>0</td>\n",
       "      <td>0</td>\n",
       "      <td>0</td>\n",
       "      <td>0</td>\n",
       "      <td>1</td>\n",
       "    </tr>\n",
       "    <tr>\n",
       "      <td>2</td>\n",
       "      <td>7</td>\n",
       "      <td>1</td>\n",
       "      <td>75</td>\n",
       "      <td>462.0</td>\n",
       "      <td>1.0</td>\n",
       "      <td>24.0</td>\n",
       "      <td>27.0</td>\n",
       "      <td>1.0</td>\n",
       "      <td>98.0</td>\n",
       "      <td>1.07</td>\n",
       "      <td>...</td>\n",
       "      <td>0</td>\n",
       "      <td>0</td>\n",
       "      <td>0</td>\n",
       "      <td>0</td>\n",
       "      <td>0</td>\n",
       "      <td>1</td>\n",
       "      <td>0</td>\n",
       "      <td>0</td>\n",
       "      <td>0</td>\n",
       "      <td>1</td>\n",
       "    </tr>\n",
       "    <tr>\n",
       "      <td>3</td>\n",
       "      <td>3</td>\n",
       "      <td>1</td>\n",
       "      <td>39</td>\n",
       "      <td>462.0</td>\n",
       "      <td>0.0</td>\n",
       "      <td>24.0</td>\n",
       "      <td>27.0</td>\n",
       "      <td>1.0</td>\n",
       "      <td>104.0</td>\n",
       "      <td>1.12</td>\n",
       "      <td>...</td>\n",
       "      <td>0</td>\n",
       "      <td>0</td>\n",
       "      <td>0</td>\n",
       "      <td>0</td>\n",
       "      <td>0</td>\n",
       "      <td>0</td>\n",
       "      <td>0</td>\n",
       "      <td>0</td>\n",
       "      <td>0</td>\n",
       "      <td>0</td>\n",
       "    </tr>\n",
       "    <tr>\n",
       "      <td>4</td>\n",
       "      <td>4</td>\n",
       "      <td>1</td>\n",
       "      <td>59</td>\n",
       "      <td>462.0</td>\n",
       "      <td>0.0</td>\n",
       "      <td>24.0</td>\n",
       "      <td>26.0</td>\n",
       "      <td>1.0</td>\n",
       "      <td>104.0</td>\n",
       "      <td>1.11</td>\n",
       "      <td>...</td>\n",
       "      <td>0</td>\n",
       "      <td>0</td>\n",
       "      <td>0</td>\n",
       "      <td>0</td>\n",
       "      <td>0</td>\n",
       "      <td>0</td>\n",
       "      <td>0</td>\n",
       "      <td>0</td>\n",
       "      <td>0</td>\n",
       "      <td>0</td>\n",
       "    </tr>\n",
       "    <tr>\n",
       "      <td>...</td>\n",
       "      <td>...</td>\n",
       "      <td>...</td>\n",
       "      <td>...</td>\n",
       "      <td>...</td>\n",
       "      <td>...</td>\n",
       "      <td>...</td>\n",
       "      <td>...</td>\n",
       "      <td>...</td>\n",
       "      <td>...</td>\n",
       "      <td>...</td>\n",
       "      <td>...</td>\n",
       "      <td>...</td>\n",
       "      <td>...</td>\n",
       "      <td>...</td>\n",
       "      <td>...</td>\n",
       "      <td>...</td>\n",
       "      <td>...</td>\n",
       "      <td>...</td>\n",
       "      <td>...</td>\n",
       "      <td>...</td>\n",
       "      <td>...</td>\n",
       "    </tr>\n",
       "    <tr>\n",
       "      <td>58971</td>\n",
       "      <td>3</td>\n",
       "      <td>0</td>\n",
       "      <td>20</td>\n",
       "      <td>230.0</td>\n",
       "      <td>-2.0</td>\n",
       "      <td>26.0</td>\n",
       "      <td>25.0</td>\n",
       "      <td>1.0</td>\n",
       "      <td>101.0</td>\n",
       "      <td>1.12</td>\n",
       "      <td>...</td>\n",
       "      <td>0</td>\n",
       "      <td>0</td>\n",
       "      <td>0</td>\n",
       "      <td>0</td>\n",
       "      <td>0</td>\n",
       "      <td>0</td>\n",
       "      <td>0</td>\n",
       "      <td>1</td>\n",
       "      <td>1</td>\n",
       "      <td>0</td>\n",
       "    </tr>\n",
       "    <tr>\n",
       "      <td>58972</td>\n",
       "      <td>1</td>\n",
       "      <td>0</td>\n",
       "      <td>84</td>\n",
       "      <td>485.0</td>\n",
       "      <td>-3.0</td>\n",
       "      <td>18.0</td>\n",
       "      <td>18.0</td>\n",
       "      <td>1.0</td>\n",
       "      <td>104.0</td>\n",
       "      <td>1.12</td>\n",
       "      <td>...</td>\n",
       "      <td>0</td>\n",
       "      <td>0</td>\n",
       "      <td>0</td>\n",
       "      <td>0</td>\n",
       "      <td>0</td>\n",
       "      <td>0</td>\n",
       "      <td>0</td>\n",
       "      <td>0</td>\n",
       "      <td>0</td>\n",
       "      <td>1</td>\n",
       "    </tr>\n",
       "    <tr>\n",
       "      <td>58973</td>\n",
       "      <td>9</td>\n",
       "      <td>1</td>\n",
       "      <td>42</td>\n",
       "      <td>422.0</td>\n",
       "      <td>-1.0</td>\n",
       "      <td>24.0</td>\n",
       "      <td>27.0</td>\n",
       "      <td>1.0</td>\n",
       "      <td>103.0</td>\n",
       "      <td>1.08</td>\n",
       "      <td>...</td>\n",
       "      <td>0</td>\n",
       "      <td>1</td>\n",
       "      <td>0</td>\n",
       "      <td>1</td>\n",
       "      <td>0</td>\n",
       "      <td>0</td>\n",
       "      <td>0</td>\n",
       "      <td>1</td>\n",
       "      <td>1</td>\n",
       "      <td>1</td>\n",
       "    </tr>\n",
       "    <tr>\n",
       "      <td>58974</td>\n",
       "      <td>11</td>\n",
       "      <td>0</td>\n",
       "      <td>60</td>\n",
       "      <td>462.0</td>\n",
       "      <td>-3.0</td>\n",
       "      <td>22.0</td>\n",
       "      <td>23.0</td>\n",
       "      <td>2.0</td>\n",
       "      <td>111.0</td>\n",
       "      <td>1.00</td>\n",
       "      <td>...</td>\n",
       "      <td>0</td>\n",
       "      <td>0</td>\n",
       "      <td>0</td>\n",
       "      <td>0</td>\n",
       "      <td>0</td>\n",
       "      <td>0</td>\n",
       "      <td>0</td>\n",
       "      <td>1</td>\n",
       "      <td>1</td>\n",
       "      <td>0</td>\n",
       "    </tr>\n",
       "    <tr>\n",
       "      <td>58975</td>\n",
       "      <td>2</td>\n",
       "      <td>0</td>\n",
       "      <td>63</td>\n",
       "      <td>462.0</td>\n",
       "      <td>0.0</td>\n",
       "      <td>24.0</td>\n",
       "      <td>26.0</td>\n",
       "      <td>1.0</td>\n",
       "      <td>104.0</td>\n",
       "      <td>1.12</td>\n",
       "      <td>...</td>\n",
       "      <td>0</td>\n",
       "      <td>0</td>\n",
       "      <td>1</td>\n",
       "      <td>0</td>\n",
       "      <td>0</td>\n",
       "      <td>0</td>\n",
       "      <td>0</td>\n",
       "      <td>1</td>\n",
       "      <td>1</td>\n",
       "      <td>1</td>\n",
       "    </tr>\n",
       "  </tbody>\n",
       "</table>\n",
       "<p>58976 rows × 503 columns</p>\n",
       "</div>"
      ],
      "text/plain": [
       "       ADMISSION_DAYS  GENDER  AGE  50801  50802  50803  50804  50805  50806  \\\n",
       "0                   2       0   65  462.0    0.0   24.0   22.0    1.0  104.0   \n",
       "1                   6       1   71  462.0    0.0   24.0   26.0    1.0  104.0   \n",
       "2                   7       1   75  462.0    1.0   24.0   27.0    1.0   98.0   \n",
       "3                   3       1   39  462.0    0.0   24.0   27.0    1.0  104.0   \n",
       "4                   4       1   59  462.0    0.0   24.0   26.0    1.0  104.0   \n",
       "...               ...     ...  ...    ...    ...    ...    ...    ...    ...   \n",
       "58971               3       0   20  230.0   -2.0   26.0   25.0    1.0  101.0   \n",
       "58972               1       0   84  485.0   -3.0   18.0   18.0    1.0  104.0   \n",
       "58973               9       1   42  422.0   -1.0   24.0   27.0    1.0  103.0   \n",
       "58974              11       0   60  462.0   -3.0   22.0   23.0    2.0  111.0   \n",
       "58975               2       0   63  462.0    0.0   24.0   26.0    1.0  104.0   \n",
       "\n",
       "       50808  ...  G11  G12  G13  G14  G15  G16  G17  G18  G19  G20  \n",
       "0       1.12  ...    0    0    0    0    0    0    0    1    1    0  \n",
       "1       1.20  ...    0    0    0    0    0    0    0    0    0    1  \n",
       "2       1.07  ...    0    0    0    0    0    1    0    0    0    1  \n",
       "3       1.12  ...    0    0    0    0    0    0    0    0    0    0  \n",
       "4       1.11  ...    0    0    0    0    0    0    0    0    0    0  \n",
       "...      ...  ...  ...  ...  ...  ...  ...  ...  ...  ...  ...  ...  \n",
       "58971   1.12  ...    0    0    0    0    0    0    0    1    1    0  \n",
       "58972   1.12  ...    0    0    0    0    0    0    0    0    0    1  \n",
       "58973   1.08  ...    0    1    0    1    0    0    0    1    1    1  \n",
       "58974   1.00  ...    0    0    0    0    0    0    0    1    1    0  \n",
       "58975   1.12  ...    0    0    1    0    0    0    0    1    1    1  \n",
       "\n",
       "[58976 rows x 503 columns]"
      ]
     },
     "execution_count": 3,
     "metadata": {},
     "output_type": "execute_result"
    }
   ],
   "source": [
    "df"
   ]
  },
  {
   "cell_type": "code",
   "execution_count": 4,
   "metadata": {},
   "outputs": [
    {
     "data": {
      "text/html": [
       "<div>\n",
       "<style scoped>\n",
       "    .dataframe tbody tr th:only-of-type {\n",
       "        vertical-align: middle;\n",
       "    }\n",
       "\n",
       "    .dataframe tbody tr th {\n",
       "        vertical-align: top;\n",
       "    }\n",
       "\n",
       "    .dataframe thead th {\n",
       "        text-align: right;\n",
       "    }\n",
       "</style>\n",
       "<table border=\"1\" class=\"dataframe\">\n",
       "  <thead>\n",
       "    <tr style=\"text-align: right;\">\n",
       "      <th></th>\n",
       "      <th>ADMISSION_DAYS</th>\n",
       "      <th>GENDER</th>\n",
       "      <th>AGE</th>\n",
       "      <th>50801</th>\n",
       "      <th>50802</th>\n",
       "      <th>50803</th>\n",
       "      <th>50804</th>\n",
       "      <th>50805</th>\n",
       "      <th>50806</th>\n",
       "      <th>50808</th>\n",
       "      <th>...</th>\n",
       "      <th>G11</th>\n",
       "      <th>G12</th>\n",
       "      <th>G13</th>\n",
       "      <th>G14</th>\n",
       "      <th>G15</th>\n",
       "      <th>G16</th>\n",
       "      <th>G17</th>\n",
       "      <th>G18</th>\n",
       "      <th>G19</th>\n",
       "      <th>G20</th>\n",
       "    </tr>\n",
       "  </thead>\n",
       "  <tbody>\n",
       "    <tr>\n",
       "      <td>55889</td>\n",
       "      <td>3</td>\n",
       "      <td>0</td>\n",
       "      <td>60</td>\n",
       "      <td>462.0</td>\n",
       "      <td>0.0</td>\n",
       "      <td>24.0</td>\n",
       "      <td>26.0</td>\n",
       "      <td>1.0</td>\n",
       "      <td>104.0</td>\n",
       "      <td>1.12</td>\n",
       "      <td>...</td>\n",
       "      <td>0</td>\n",
       "      <td>1</td>\n",
       "      <td>1</td>\n",
       "      <td>0</td>\n",
       "      <td>0</td>\n",
       "      <td>1</td>\n",
       "      <td>0</td>\n",
       "      <td>0</td>\n",
       "      <td>1</td>\n",
       "      <td>1</td>\n",
       "    </tr>\n",
       "    <tr>\n",
       "      <td>27001</td>\n",
       "      <td>12</td>\n",
       "      <td>1</td>\n",
       "      <td>75</td>\n",
       "      <td>462.0</td>\n",
       "      <td>0.0</td>\n",
       "      <td>24.0</td>\n",
       "      <td>26.0</td>\n",
       "      <td>1.0</td>\n",
       "      <td>104.0</td>\n",
       "      <td>1.12</td>\n",
       "      <td>...</td>\n",
       "      <td>0</td>\n",
       "      <td>0</td>\n",
       "      <td>1</td>\n",
       "      <td>0</td>\n",
       "      <td>0</td>\n",
       "      <td>1</td>\n",
       "      <td>0</td>\n",
       "      <td>0</td>\n",
       "      <td>0</td>\n",
       "      <td>0</td>\n",
       "    </tr>\n",
       "    <tr>\n",
       "      <td>24740</td>\n",
       "      <td>25</td>\n",
       "      <td>1</td>\n",
       "      <td>64</td>\n",
       "      <td>633.0</td>\n",
       "      <td>8.0</td>\n",
       "      <td>39.0</td>\n",
       "      <td>34.0</td>\n",
       "      <td>1.0</td>\n",
       "      <td>80.0</td>\n",
       "      <td>0.96</td>\n",
       "      <td>...</td>\n",
       "      <td>0</td>\n",
       "      <td>1</td>\n",
       "      <td>0</td>\n",
       "      <td>0</td>\n",
       "      <td>0</td>\n",
       "      <td>1</td>\n",
       "      <td>1</td>\n",
       "      <td>1</td>\n",
       "      <td>0</td>\n",
       "      <td>1</td>\n",
       "    </tr>\n",
       "    <tr>\n",
       "      <td>1358</td>\n",
       "      <td>2</td>\n",
       "      <td>1</td>\n",
       "      <td>0</td>\n",
       "      <td>462.0</td>\n",
       "      <td>0.0</td>\n",
       "      <td>24.0</td>\n",
       "      <td>26.0</td>\n",
       "      <td>1.0</td>\n",
       "      <td>104.0</td>\n",
       "      <td>1.12</td>\n",
       "      <td>...</td>\n",
       "      <td>0</td>\n",
       "      <td>0</td>\n",
       "      <td>0</td>\n",
       "      <td>0</td>\n",
       "      <td>0</td>\n",
       "      <td>0</td>\n",
       "      <td>0</td>\n",
       "      <td>0</td>\n",
       "      <td>0</td>\n",
       "      <td>1</td>\n",
       "    </tr>\n",
       "    <tr>\n",
       "      <td>36194</td>\n",
       "      <td>8</td>\n",
       "      <td>1</td>\n",
       "      <td>65</td>\n",
       "      <td>462.0</td>\n",
       "      <td>0.0</td>\n",
       "      <td>24.0</td>\n",
       "      <td>26.0</td>\n",
       "      <td>1.0</td>\n",
       "      <td>104.0</td>\n",
       "      <td>1.12</td>\n",
       "      <td>...</td>\n",
       "      <td>0</td>\n",
       "      <td>0</td>\n",
       "      <td>0</td>\n",
       "      <td>0</td>\n",
       "      <td>0</td>\n",
       "      <td>1</td>\n",
       "      <td>0</td>\n",
       "      <td>1</td>\n",
       "      <td>1</td>\n",
       "      <td>0</td>\n",
       "    </tr>\n",
       "    <tr>\n",
       "      <td>...</td>\n",
       "      <td>...</td>\n",
       "      <td>...</td>\n",
       "      <td>...</td>\n",
       "      <td>...</td>\n",
       "      <td>...</td>\n",
       "      <td>...</td>\n",
       "      <td>...</td>\n",
       "      <td>...</td>\n",
       "      <td>...</td>\n",
       "      <td>...</td>\n",
       "      <td>...</td>\n",
       "      <td>...</td>\n",
       "      <td>...</td>\n",
       "      <td>...</td>\n",
       "      <td>...</td>\n",
       "      <td>...</td>\n",
       "      <td>...</td>\n",
       "      <td>...</td>\n",
       "      <td>...</td>\n",
       "      <td>...</td>\n",
       "      <td>...</td>\n",
       "    </tr>\n",
       "    <tr>\n",
       "      <td>31391</td>\n",
       "      <td>5</td>\n",
       "      <td>1</td>\n",
       "      <td>59</td>\n",
       "      <td>462.0</td>\n",
       "      <td>0.0</td>\n",
       "      <td>24.0</td>\n",
       "      <td>26.0</td>\n",
       "      <td>1.0</td>\n",
       "      <td>104.0</td>\n",
       "      <td>1.12</td>\n",
       "      <td>...</td>\n",
       "      <td>0</td>\n",
       "      <td>0</td>\n",
       "      <td>0</td>\n",
       "      <td>0</td>\n",
       "      <td>0</td>\n",
       "      <td>0</td>\n",
       "      <td>0</td>\n",
       "      <td>0</td>\n",
       "      <td>0</td>\n",
       "      <td>1</td>\n",
       "    </tr>\n",
       "    <tr>\n",
       "      <td>9513</td>\n",
       "      <td>5</td>\n",
       "      <td>1</td>\n",
       "      <td>0</td>\n",
       "      <td>462.0</td>\n",
       "      <td>0.0</td>\n",
       "      <td>24.0</td>\n",
       "      <td>26.0</td>\n",
       "      <td>1.0</td>\n",
       "      <td>104.0</td>\n",
       "      <td>1.12</td>\n",
       "      <td>...</td>\n",
       "      <td>0</td>\n",
       "      <td>0</td>\n",
       "      <td>0</td>\n",
       "      <td>1</td>\n",
       "      <td>1</td>\n",
       "      <td>0</td>\n",
       "      <td>0</td>\n",
       "      <td>0</td>\n",
       "      <td>0</td>\n",
       "      <td>1</td>\n",
       "    </tr>\n",
       "    <tr>\n",
       "      <td>12453</td>\n",
       "      <td>3</td>\n",
       "      <td>1</td>\n",
       "      <td>28</td>\n",
       "      <td>462.0</td>\n",
       "      <td>0.0</td>\n",
       "      <td>24.0</td>\n",
       "      <td>26.0</td>\n",
       "      <td>1.2</td>\n",
       "      <td>104.0</td>\n",
       "      <td>1.16</td>\n",
       "      <td>...</td>\n",
       "      <td>0</td>\n",
       "      <td>0</td>\n",
       "      <td>0</td>\n",
       "      <td>0</td>\n",
       "      <td>0</td>\n",
       "      <td>0</td>\n",
       "      <td>0</td>\n",
       "      <td>1</td>\n",
       "      <td>1</td>\n",
       "      <td>0</td>\n",
       "    </tr>\n",
       "    <tr>\n",
       "      <td>11855</td>\n",
       "      <td>26</td>\n",
       "      <td>0</td>\n",
       "      <td>43</td>\n",
       "      <td>462.0</td>\n",
       "      <td>-2.0</td>\n",
       "      <td>27.0</td>\n",
       "      <td>22.0</td>\n",
       "      <td>1.0</td>\n",
       "      <td>104.0</td>\n",
       "      <td>1.12</td>\n",
       "      <td>...</td>\n",
       "      <td>0</td>\n",
       "      <td>0</td>\n",
       "      <td>1</td>\n",
       "      <td>0</td>\n",
       "      <td>0</td>\n",
       "      <td>1</td>\n",
       "      <td>0</td>\n",
       "      <td>1</td>\n",
       "      <td>0</td>\n",
       "      <td>0</td>\n",
       "    </tr>\n",
       "    <tr>\n",
       "      <td>28315</td>\n",
       "      <td>7</td>\n",
       "      <td>1</td>\n",
       "      <td>65</td>\n",
       "      <td>292.0</td>\n",
       "      <td>3.0</td>\n",
       "      <td>24.0</td>\n",
       "      <td>30.0</td>\n",
       "      <td>1.0</td>\n",
       "      <td>104.0</td>\n",
       "      <td>1.15</td>\n",
       "      <td>...</td>\n",
       "      <td>0</td>\n",
       "      <td>0</td>\n",
       "      <td>0</td>\n",
       "      <td>0</td>\n",
       "      <td>0</td>\n",
       "      <td>0</td>\n",
       "      <td>0</td>\n",
       "      <td>0</td>\n",
       "      <td>0</td>\n",
       "      <td>0</td>\n",
       "    </tr>\n",
       "  </tbody>\n",
       "</table>\n",
       "<p>58976 rows × 503 columns</p>\n",
       "</div>"
      ],
      "text/plain": [
       "       ADMISSION_DAYS  GENDER  AGE  50801  50802  50803  50804  50805  50806  \\\n",
       "55889               3       0   60  462.0    0.0   24.0   26.0    1.0  104.0   \n",
       "27001              12       1   75  462.0    0.0   24.0   26.0    1.0  104.0   \n",
       "24740              25       1   64  633.0    8.0   39.0   34.0    1.0   80.0   \n",
       "1358                2       1    0  462.0    0.0   24.0   26.0    1.0  104.0   \n",
       "36194               8       1   65  462.0    0.0   24.0   26.0    1.0  104.0   \n",
       "...               ...     ...  ...    ...    ...    ...    ...    ...    ...   \n",
       "31391               5       1   59  462.0    0.0   24.0   26.0    1.0  104.0   \n",
       "9513                5       1    0  462.0    0.0   24.0   26.0    1.0  104.0   \n",
       "12453               3       1   28  462.0    0.0   24.0   26.0    1.2  104.0   \n",
       "11855              26       0   43  462.0   -2.0   27.0   22.0    1.0  104.0   \n",
       "28315               7       1   65  292.0    3.0   24.0   30.0    1.0  104.0   \n",
       "\n",
       "       50808  ...  G11  G12  G13  G14  G15  G16  G17  G18  G19  G20  \n",
       "55889   1.12  ...    0    1    1    0    0    1    0    0    1    1  \n",
       "27001   1.12  ...    0    0    1    0    0    1    0    0    0    0  \n",
       "24740   0.96  ...    0    1    0    0    0    1    1    1    0    1  \n",
       "1358    1.12  ...    0    0    0    0    0    0    0    0    0    1  \n",
       "36194   1.12  ...    0    0    0    0    0    1    0    1    1    0  \n",
       "...      ...  ...  ...  ...  ...  ...  ...  ...  ...  ...  ...  ...  \n",
       "31391   1.12  ...    0    0    0    0    0    0    0    0    0    1  \n",
       "9513    1.12  ...    0    0    0    1    1    0    0    0    0    1  \n",
       "12453   1.16  ...    0    0    0    0    0    0    0    1    1    0  \n",
       "11855   1.12  ...    0    0    1    0    0    1    0    1    0    0  \n",
       "28315   1.15  ...    0    0    0    0    0    0    0    0    0    0  \n",
       "\n",
       "[58976 rows x 503 columns]"
      ]
     },
     "execution_count": 4,
     "metadata": {},
     "output_type": "execute_result"
    }
   ],
   "source": [
    "np.take(df,np.random.permutation(df.shape[0]),axis=0)#to shuffle dataset"
   ]
  },
  {
   "cell_type": "code",
   "execution_count": 5,
   "metadata": {},
   "outputs": [
    {
     "data": {
      "text/plain": [
       "(58976, 483)"
      ]
     },
     "execution_count": 5,
     "metadata": {},
     "output_type": "execute_result"
    }
   ],
   "source": [
    "x = df.iloc[:,:483]\n",
    "x.shape\n",
    "#483 = 3(adm_days,gender,age)+480(lab values)"
   ]
  },
  {
   "cell_type": "code",
   "execution_count": 6,
   "metadata": {},
   "outputs": [
    {
     "data": {
      "text/plain": [
       "Index(['ADMISSION_DAYS',         'GENDER',            'AGE',            50801,\n",
       "                  50802,            50803,            50804,            50805,\n",
       "                  50806,            50808,\n",
       "       ...\n",
       "                  51512,            51513,            51514,            51515,\n",
       "                  51516,            51517,            51518,            51519,\n",
       "                  51529,            51532],\n",
       "      dtype='object', length=483)"
      ]
     },
     "execution_count": 6,
     "metadata": {},
     "output_type": "execute_result"
    }
   ],
   "source": [
    "x.columns\n"
   ]
  },
  {
   "cell_type": "code",
   "execution_count": 7,
   "metadata": {},
   "outputs": [],
   "source": [
    "y = df.iloc[:,483:]\n"
   ]
  },
  {
   "cell_type": "code",
   "execution_count": 8,
   "metadata": {},
   "outputs": [
    {
     "data": {
      "text/plain": [
       "Index(['G1', 'G2', 'G3', 'G4', 'G5', 'G6', 'G7', 'G8', 'G9', 'G10', 'G11',\n",
       "       'G12', 'G13', 'G14', 'G15', 'G16', 'G17', 'G18', 'G19', 'G20'],\n",
       "      dtype='object')"
      ]
     },
     "execution_count": 8,
     "metadata": {},
     "output_type": "execute_result"
    }
   ],
   "source": [
    "y.columns"
   ]
  },
  {
   "cell_type": "code",
   "execution_count": 9,
   "metadata": {},
   "outputs": [],
   "source": [
    "from sklearn.preprocessing import MinMaxScaler\n",
    "sc = MinMaxScaler(feature_range=(-1,1))\n",
    "x1 = sc.fit_transform(x)"
   ]
  },
  {
   "cell_type": "code",
   "execution_count": 10,
   "metadata": {},
   "outputs": [
    {
     "name": "stderr",
     "output_type": "stream",
     "text": [
      "/home/akshara/anaconda3/envs/mimic/lib/python3.7/site-packages/tensorflow/python/framework/dtypes.py:516: FutureWarning: Passing (type, 1) or '1type' as a synonym of type is deprecated; in a future version of numpy, it will be understood as (type, (1,)) / '(1,)type'.\n",
      "  _np_qint8 = np.dtype([(\"qint8\", np.int8, 1)])\n",
      "/home/akshara/anaconda3/envs/mimic/lib/python3.7/site-packages/tensorflow/python/framework/dtypes.py:517: FutureWarning: Passing (type, 1) or '1type' as a synonym of type is deprecated; in a future version of numpy, it will be understood as (type, (1,)) / '(1,)type'.\n",
      "  _np_quint8 = np.dtype([(\"quint8\", np.uint8, 1)])\n",
      "/home/akshara/anaconda3/envs/mimic/lib/python3.7/site-packages/tensorflow/python/framework/dtypes.py:518: FutureWarning: Passing (type, 1) or '1type' as a synonym of type is deprecated; in a future version of numpy, it will be understood as (type, (1,)) / '(1,)type'.\n",
      "  _np_qint16 = np.dtype([(\"qint16\", np.int16, 1)])\n",
      "/home/akshara/anaconda3/envs/mimic/lib/python3.7/site-packages/tensorflow/python/framework/dtypes.py:519: FutureWarning: Passing (type, 1) or '1type' as a synonym of type is deprecated; in a future version of numpy, it will be understood as (type, (1,)) / '(1,)type'.\n",
      "  _np_quint16 = np.dtype([(\"quint16\", np.uint16, 1)])\n",
      "/home/akshara/anaconda3/envs/mimic/lib/python3.7/site-packages/tensorflow/python/framework/dtypes.py:520: FutureWarning: Passing (type, 1) or '1type' as a synonym of type is deprecated; in a future version of numpy, it will be understood as (type, (1,)) / '(1,)type'.\n",
      "  _np_qint32 = np.dtype([(\"qint32\", np.int32, 1)])\n",
      "/home/akshara/anaconda3/envs/mimic/lib/python3.7/site-packages/tensorflow/python/framework/dtypes.py:525: FutureWarning: Passing (type, 1) or '1type' as a synonym of type is deprecated; in a future version of numpy, it will be understood as (type, (1,)) / '(1,)type'.\n",
      "  np_resource = np.dtype([(\"resource\", np.ubyte, 1)])\n",
      "/home/akshara/anaconda3/envs/mimic/lib/python3.7/site-packages/tensorboard/compat/tensorflow_stub/dtypes.py:541: FutureWarning: Passing (type, 1) or '1type' as a synonym of type is deprecated; in a future version of numpy, it will be understood as (type, (1,)) / '(1,)type'.\n",
      "  _np_qint8 = np.dtype([(\"qint8\", np.int8, 1)])\n",
      "/home/akshara/anaconda3/envs/mimic/lib/python3.7/site-packages/tensorboard/compat/tensorflow_stub/dtypes.py:542: FutureWarning: Passing (type, 1) or '1type' as a synonym of type is deprecated; in a future version of numpy, it will be understood as (type, (1,)) / '(1,)type'.\n",
      "  _np_quint8 = np.dtype([(\"quint8\", np.uint8, 1)])\n",
      "/home/akshara/anaconda3/envs/mimic/lib/python3.7/site-packages/tensorboard/compat/tensorflow_stub/dtypes.py:543: FutureWarning: Passing (type, 1) or '1type' as a synonym of type is deprecated; in a future version of numpy, it will be understood as (type, (1,)) / '(1,)type'.\n",
      "  _np_qint16 = np.dtype([(\"qint16\", np.int16, 1)])\n",
      "/home/akshara/anaconda3/envs/mimic/lib/python3.7/site-packages/tensorboard/compat/tensorflow_stub/dtypes.py:544: FutureWarning: Passing (type, 1) or '1type' as a synonym of type is deprecated; in a future version of numpy, it will be understood as (type, (1,)) / '(1,)type'.\n",
      "  _np_quint16 = np.dtype([(\"quint16\", np.uint16, 1)])\n",
      "/home/akshara/anaconda3/envs/mimic/lib/python3.7/site-packages/tensorboard/compat/tensorflow_stub/dtypes.py:545: FutureWarning: Passing (type, 1) or '1type' as a synonym of type is deprecated; in a future version of numpy, it will be understood as (type, (1,)) / '(1,)type'.\n",
      "  _np_qint32 = np.dtype([(\"qint32\", np.int32, 1)])\n",
      "/home/akshara/anaconda3/envs/mimic/lib/python3.7/site-packages/tensorboard/compat/tensorflow_stub/dtypes.py:550: FutureWarning: Passing (type, 1) or '1type' as a synonym of type is deprecated; in a future version of numpy, it will be understood as (type, (1,)) / '(1,)type'.\n",
      "  np_resource = np.dtype([(\"resource\", np.ubyte, 1)])\n"
     ]
    },
    {
     "name": "stdout",
     "output_type": "stream",
     "text": [
      "[name: \"/device:CPU:0\"\n",
      "device_type: \"CPU\"\n",
      "memory_limit: 268435456\n",
      "locality {\n",
      "}\n",
      "incarnation: 13565085188903621612\n",
      ", name: \"/device:XLA_CPU:0\"\n",
      "device_type: \"XLA_CPU\"\n",
      "memory_limit: 17179869184\n",
      "locality {\n",
      "}\n",
      "incarnation: 3551933917428492905\n",
      "physical_device_desc: \"device: XLA_CPU device\"\n",
      ", name: \"/device:GPU:0\"\n",
      "device_type: \"GPU\"\n",
      "memory_limit: 22748702311\n",
      "locality {\n",
      "  bus_id: 1\n",
      "  links {\n",
      "  }\n",
      "}\n",
      "incarnation: 9206294571050597411\n",
      "physical_device_desc: \"device: 0, name: Tesla M40 24GB, pci bus id: 0000:04:00.0, compute capability: 5.2\"\n",
      ", name: \"/device:GPU:1\"\n",
      "device_type: \"GPU\"\n",
      "memory_limit: 22748702311\n",
      "locality {\n",
      "  bus_id: 2\n",
      "  numa_node: 1\n",
      "  links {\n",
      "  }\n",
      "}\n",
      "incarnation: 9234920164583681768\n",
      "physical_device_desc: \"device: 1, name: Tesla M40 24GB, pci bus id: 0000:82:00.0, compute capability: 5.2\"\n",
      ", name: \"/device:XLA_GPU:0\"\n",
      "device_type: \"XLA_GPU\"\n",
      "memory_limit: 17179869184\n",
      "locality {\n",
      "}\n",
      "incarnation: 17675413827071987311\n",
      "physical_device_desc: \"device: XLA_GPU device\"\n",
      ", name: \"/device:XLA_GPU:1\"\n",
      "device_type: \"XLA_GPU\"\n",
      "memory_limit: 17179869184\n",
      "locality {\n",
      "}\n",
      "incarnation: 7118924058999963514\n",
      "physical_device_desc: \"device: XLA_GPU device\"\n",
      "]\n"
     ]
    }
   ],
   "source": [
    "from tensorflow.python.client import device_lib \n",
    "print(device_lib.list_local_devices())"
   ]
  },
  {
   "cell_type": "code",
   "execution_count": 11,
   "metadata": {},
   "outputs": [],
   "source": [
    "x_train = x.iloc[:44232,:].values\n",
    "x_test = x.iloc[44232:,:].values\n",
    "y_train = y.iloc[:44232,:].values\n",
    "y_test = y.iloc[44232:,:].values\n",
    "#remove .values to see shape\n",
    "#print(x_train.shape,y_train.shape,x_test.shape,y_test.shape)"
   ]
  },
  {
   "cell_type": "code",
   "execution_count": 12,
   "metadata": {},
   "outputs": [
    {
     "name": "stderr",
     "output_type": "stream",
     "text": [
      "Using TensorFlow backend.\n"
     ]
    }
   ],
   "source": [
    "import keras\n",
    "import tensorflow as tf\n",
    "from keras.models import Model\n",
    "from keras.layers import Dense,CuDNNLSTM,CuDNNGRU,Flatten,Conv1D,Dropout,Activation,LeakyReLU,Input,MaxPooling1D\n",
    "from keras.models import Sequential\n",
    "from sklearn.model_selection import StratifiedKFold"
   ]
  },
  {
   "cell_type": "code",
   "execution_count": 13,
   "metadata": {},
   "outputs": [],
   "source": [
    "x_train = np.reshape(x_train,(x_train.shape[0],1,x_train.shape[1]))\n",
    "y_train = np.reshape(y_train,(y_train.shape[0],1,y_train.shape[1]))"
   ]
  },
  {
   "cell_type": "code",
   "execution_count": 14,
   "metadata": {
    "scrolled": true
   },
   "outputs": [
    {
     "data": {
      "text/plain": [
       "(44232, 1, 483)"
      ]
     },
     "execution_count": 14,
     "metadata": {},
     "output_type": "execute_result"
    }
   ],
   "source": [
    "x_train.shape"
   ]
  },
  {
   "cell_type": "code",
   "execution_count": 15,
   "metadata": {},
   "outputs": [
    {
     "data": {
      "text/plain": [
       "(44232, 1, 20)"
      ]
     },
     "execution_count": 15,
     "metadata": {},
     "output_type": "execute_result"
    }
   ],
   "source": [
    "y_train.shape"
   ]
  },
  {
   "cell_type": "code",
   "execution_count": 16,
   "metadata": {},
   "outputs": [],
   "source": [
    "\n",
    "x_test = np.reshape(x_test,(x_test.shape[0],1,x_test.shape[1]))"
   ]
  },
  {
   "cell_type": "code",
   "execution_count": 17,
   "metadata": {},
   "outputs": [
    {
     "data": {
      "text/plain": [
       "'from skmultilearn.problem_transform import BinaryRelevance\\nfrom sklearn.naive_bayes import GaussianNB\\n\\nclassifier = BinaryRelevance(GaussianNB())\\nclassifier.fit(x_train, y_train)\\ny_pred = classifier.predict(x_test)'"
      ]
     },
     "execution_count": 17,
     "metadata": {},
     "output_type": "execute_result"
    }
   ],
   "source": [
    "'''from skmultilearn.problem_transform import BinaryRelevance\n",
    "from sklearn.naive_bayes import GaussianNB\n",
    "\n",
    "classifier = BinaryRelevance(GaussianNB())\n",
    "classifier.fit(x_train, y_train)\n",
    "y_pred = classifier.predict(x_test)'''"
   ]
  },
  {
   "cell_type": "code",
   "execution_count": 18,
   "metadata": {},
   "outputs": [
    {
     "data": {
      "text/plain": [
       "\"input_x = Input(shape=x_train.shape)\\n\\nX = Dense(512)(input_x)\\nprint(str(X.shape)+'X')\\nconv1 = Conv1D(filters=483,kernel_size=1)(X)\\nprint(str(conv1.shape)+'conv1')\\n\\ndens1 = Dense(483,activation = 'relu')(conv1)\\nprint(str(dens1.shape)+'dense1')\\nlstm1 = CuDNNLSTM(256,return_sequences=True)(dens1)\\nprint(str(lstm1.shape)+'lstm1')\\nlrelu1 = LeakyReLU(alpha=0.3)(lstm1)\\nprint(str(lrelu1.shape)+'leakyrelu1')\\n\\ndens2 = Dense(256,activation = 'relu')(lrelu1)\\nprint(str(dens2.shape)+'dense2')\\nconv2 = Conv1D(filters=128,kernel_size=1)(dens2)\\nprint(str(conv2.shape)+'conv2')\\n\\ndens3 = Dense(161,activation = 'relu')(conv2)\\nprint(str(dens3.shape)+'dense3')\\ngru1 = CuDNNGRU(256,return_sequences=True)(dens3)\\nprint(str(gru1.shape)+'gru1')\\nlrelu2 = LeakyReLU(alpha=0.3)(dens3)\\nprint(str(lrelu2.shape)+'leakyrelu2')\\n\\ndens4 = Dense(64,activation='relu')(lrelu2)\\nprint(str(dens4.shape)+'dense4')\\nconv3 = Conv1D(filters=32,kernel_size=1)(dens4)\\nprint(str(conv3.shape)+'conv3')\\n\\ndens5 = Dense(20,activation='relu')(conv3)\\nprint(str(dens5.shape)+'dense5')\\n\\ndens6 = Dense(32,activation = 'relu')(dens5)\\nprint(str(dens6.shape)+'dense6')\\ngru2 = CuDNNGRU(256,return_sequences=True)(dens6)\\nprint(str(gru2.shape)+'gru2')\\nlrelu3 = LeakyReLU(alpha=0.3)(gru2+gru1)\\nprint(str(lrelu3.shape)+'leakyrelu3')\\n\\ndens7 = Dense(64,activation='relu')(lrelu3)\\nprint(str(dens7.shape)+'dense7')\\nconv4 = Conv1D(filters=32,kernel_size=1)(dens7)\\nprint(str(conv4.shape)+'conv4')\\n\\ndens8 = Dense(161,activation='relu')(conv4)\\nprint(str(dens8.shape)+'dense8')\\nlstm2 = CuDNNLSTM(256,return_sequences=True)(dens8)\\nprint(str(lstm2.shape)+'lstm2')\\nlrelu4 = LeakyReLU(alpha=0.3)(lstm2+lstm1)\\nprint(str(lrelu4.shape)+'lrelu4')\\n\\ndens9 = Dense(256,activation = 'relu')(lrelu4)\\nprint(str(dens9.shape)+'dense9')\\nconv5 = Conv1D(filters=128,kernel_size=1)(dens9)\\nprint(str(conv5.shape)+'conv5')\\n\\ndens10 = Dense(483,activation = 'relu')(conv5)\\nprint(str(dens10.shape)+'dense10')\\nlstm3 = CuDNNLSTM(256,return_sequences=True)(dens10)\\nprint(str(lstm3.shape)+'lstm3')\\nlrelu5 = LeakyReLU(alpha=0.3)(lstm3+lstm1+lstm2)\\nprint(str(lrelu5.shape)+'lrelu5')\\n\\noutput = Dense(y_train.shape[1],activation='softmax')(lrelu5)\\nprint(str(output.shape)+'output_shape')\\nmodel = Model(inputs = input_x,outputs = output)\""
      ]
     },
     "execution_count": 18,
     "metadata": {},
     "output_type": "execute_result"
    }
   ],
   "source": [
    "'''input_x = Input(shape=x_train.shape)\n",
    "\n",
    "X = Dense(512)(input_x)\n",
    "print(str(X.shape)+'X')\n",
    "conv1 = Conv1D(filters=483,kernel_size=1)(X)\n",
    "print(str(conv1.shape)+'conv1')\n",
    "\n",
    "dens1 = Dense(483,activation = 'relu')(conv1)\n",
    "print(str(dens1.shape)+'dense1')\n",
    "lstm1 = CuDNNLSTM(256,return_sequences=True)(dens1)\n",
    "print(str(lstm1.shape)+'lstm1')\n",
    "lrelu1 = LeakyReLU(alpha=0.3)(lstm1)\n",
    "print(str(lrelu1.shape)+'leakyrelu1')\n",
    "\n",
    "dens2 = Dense(256,activation = 'relu')(lrelu1)\n",
    "print(str(dens2.shape)+'dense2')\n",
    "conv2 = Conv1D(filters=128,kernel_size=1)(dens2)\n",
    "print(str(conv2.shape)+'conv2')\n",
    "\n",
    "dens3 = Dense(161,activation = 'relu')(conv2)\n",
    "print(str(dens3.shape)+'dense3')\n",
    "gru1 = CuDNNGRU(256,return_sequences=True)(dens3)\n",
    "print(str(gru1.shape)+'gru1')\n",
    "lrelu2 = LeakyReLU(alpha=0.3)(dens3)\n",
    "print(str(lrelu2.shape)+'leakyrelu2')\n",
    "\n",
    "dens4 = Dense(64,activation='relu')(lrelu2)\n",
    "print(str(dens4.shape)+'dense4')\n",
    "conv3 = Conv1D(filters=32,kernel_size=1)(dens4)\n",
    "print(str(conv3.shape)+'conv3')\n",
    "\n",
    "dens5 = Dense(20,activation='relu')(conv3)\n",
    "print(str(dens5.shape)+'dense5')\n",
    "\n",
    "dens6 = Dense(32,activation = 'relu')(dens5)\n",
    "print(str(dens6.shape)+'dense6')\n",
    "gru2 = CuDNNGRU(256,return_sequences=True)(dens6)\n",
    "print(str(gru2.shape)+'gru2')\n",
    "lrelu3 = LeakyReLU(alpha=0.3)(gru2+gru1)\n",
    "print(str(lrelu3.shape)+'leakyrelu3')\n",
    "\n",
    "dens7 = Dense(64,activation='relu')(lrelu3)\n",
    "print(str(dens7.shape)+'dense7')\n",
    "conv4 = Conv1D(filters=32,kernel_size=1)(dens7)\n",
    "print(str(conv4.shape)+'conv4')\n",
    "\n",
    "dens8 = Dense(161,activation='relu')(conv4)\n",
    "print(str(dens8.shape)+'dense8')\n",
    "lstm2 = CuDNNLSTM(256,return_sequences=True)(dens8)\n",
    "print(str(lstm2.shape)+'lstm2')\n",
    "lrelu4 = LeakyReLU(alpha=0.3)(lstm2+lstm1)\n",
    "print(str(lrelu4.shape)+'lrelu4')\n",
    "\n",
    "dens9 = Dense(256,activation = 'relu')(lrelu4)\n",
    "print(str(dens9.shape)+'dense9')\n",
    "conv5 = Conv1D(filters=128,kernel_size=1)(dens9)\n",
    "print(str(conv5.shape)+'conv5')\n",
    "\n",
    "dens10 = Dense(483,activation = 'relu')(conv5)\n",
    "print(str(dens10.shape)+'dense10')\n",
    "lstm3 = CuDNNLSTM(256,return_sequences=True)(dens10)\n",
    "print(str(lstm3.shape)+'lstm3')\n",
    "lrelu5 = LeakyReLU(alpha=0.3)(lstm3+lstm1+lstm2)\n",
    "print(str(lrelu5.shape)+'lrelu5')\n",
    "\n",
    "output = Dense(y_train.shape[1],activation='softmax')(lrelu5)\n",
    "print(str(output.shape)+'output_shape')\n",
    "model = Model(inputs = input_x,outputs = output)'''"
   ]
  },
  {
   "cell_type": "code",
   "execution_count": 19,
   "metadata": {},
   "outputs": [
    {
     "data": {
      "text/plain": [
       "\"model = Sequential()\\nmodel.add(Dense(483,input_shape=(x_train.shape[1],x_train.shape[2])))\\nmodel.add(Conv1D(filters = 483,kernel_size=1))\\nmodel.add(MaxPooling1D(1))\\nmodel.add(LeakyReLU(alpha=0.3))\\nmodel.add(Dense(966))\\nmodel.add(Conv1D(filters=483,kernel_size=1))\\nmodel.add(MaxPooling1D(1))\\n#model.add(Dense(483))\\n#model.add(CuDNNLSTM(483))\\nmodel.add(LeakyReLU(alpha=0.15))\\nmodel.add(Dense(966))\\nmodel.add(Activation('tanh'))\\nmodel.add(Dense(y_train.shape[2],activation='sigmoid'))\""
      ]
     },
     "execution_count": 19,
     "metadata": {},
     "output_type": "execute_result"
    }
   ],
   "source": [
    "'''model = Sequential()\n",
    "model.add(Dense(483,input_shape=(x_train.shape[1],x_train.shape[2])))\n",
    "model.add(Conv1D(filters = 483,kernel_size=1))\n",
    "model.add(MaxPooling1D(1))\n",
    "model.add(LeakyReLU(alpha=0.3))\n",
    "model.add(Dense(966))\n",
    "model.add(Conv1D(filters=483,kernel_size=1))\n",
    "model.add(MaxPooling1D(1))\n",
    "#model.add(Dense(483))\n",
    "#model.add(CuDNNLSTM(483))\n",
    "model.add(LeakyReLU(alpha=0.15))\n",
    "model.add(Dense(966))\n",
    "model.add(Activation('tanh'))\n",
    "model.add(Dense(y_train.shape[2],activation='sigmoid'))'''"
   ]
  },
  {
   "cell_type": "code",
   "execution_count": 20,
   "metadata": {},
   "outputs": [
    {
     "data": {
      "text/plain": [
       "\"model = Sequential()\\nmodel.add(Conv1D(filters=64,kernel_size=1,input_shape=(x_train.shape[1],x_train.shape[2])))\\n\\nmodel.add(Dense(units=256, activation='relu'))\\nmodel.add(Dense(units=256, activation='relu'))\\nmodel.add(Dropout(0.5)) \\nmodel.add(Conv1D(filters=32,kernel_size=1))\\n\\nmodel.add(Dense(units=128,activation='relu'))\\nmodel.add(Dense(units=128,activation='relu'))\\nmodel.add(Dropout(0.5))\\nmodel.add(Conv1D(filters=8,kernel_size=1))\\nmodel.add(Conv1D(filters=8,kernel_size=1))\\nmodel.add(Conv1D(filters=8,kernel_size=1))\\nmodel.add(Dense(units=16,activation='relu'))\\nmodel.add(Dense(y_train.shape[2],activation='sigmoid'))\""
      ]
     },
     "execution_count": 20,
     "metadata": {},
     "output_type": "execute_result"
    }
   ],
   "source": [
    "'''model = Sequential()\n",
    "model.add(Conv1D(filters=64,kernel_size=1,input_shape=(x_train.shape[1],x_train.shape[2])))\n",
    "\n",
    "model.add(Dense(units=256, activation='relu'))\n",
    "model.add(Dense(units=256, activation='relu'))\n",
    "model.add(Dropout(0.5)) \n",
    "model.add(Conv1D(filters=32,kernel_size=1))\n",
    "\n",
    "model.add(Dense(units=128,activation='relu'))\n",
    "model.add(Dense(units=128,activation='relu'))\n",
    "model.add(Dropout(0.5))\n",
    "model.add(Conv1D(filters=8,kernel_size=1))\n",
    "model.add(Conv1D(filters=8,kernel_size=1))\n",
    "model.add(Conv1D(filters=8,kernel_size=1))\n",
    "model.add(Dense(units=16,activation='relu'))\n",
    "model.add(Dense(y_train.shape[2],activation='sigmoid'))'''"
   ]
  },
  {
   "cell_type": "code",
   "execution_count": 21,
   "metadata": {},
   "outputs": [
    {
     "data": {
      "text/plain": [
       "\"model = Sequential()\\nmodel.add(Conv1D(filters=64,kernel_size=1,input_shape=(None,x_train.shape[2])))\\nmodel.add(LeakyReLU(alpha=0.4))\\nmodel.add(CuDNNLSTM(483,return_sequences=True))\\nmodel.add(LeakyReLU(alpha=0.4))\\nmodel.add(Dropout(0.2))\\nmodel.add(Conv1D(filters=64,kernel_size=1))\\nmodel.add(CuDNNGRU(483,return_sequences=True))\\nmodel.add(LeakyReLU(alpha=0.4))\\nmodel.add(Dense(161))\\nmodel.add(Dense(81))\\nmodel.add(Dense(y_train.shape[2],activation='sigmoid'))\""
      ]
     },
     "execution_count": 21,
     "metadata": {},
     "output_type": "execute_result"
    }
   ],
   "source": [
    "'''model = Sequential()\n",
    "model.add(Conv1D(filters=64,kernel_size=1,input_shape=(None,x_train.shape[2])))\n",
    "model.add(LeakyReLU(alpha=0.4))\n",
    "model.add(CuDNNLSTM(483,return_sequences=True))\n",
    "model.add(LeakyReLU(alpha=0.4))\n",
    "model.add(Dropout(0.2))\n",
    "model.add(Conv1D(filters=64,kernel_size=1))\n",
    "model.add(CuDNNGRU(483,return_sequences=True))\n",
    "model.add(LeakyReLU(alpha=0.4))\n",
    "model.add(Dense(161))\n",
    "model.add(Dense(81))\n",
    "model.add(Dense(y_train.shape[2],activation='sigmoid'))'''"
   ]
  },
  {
   "cell_type": "code",
   "execution_count": 22,
   "metadata": {},
   "outputs": [],
   "source": [
    "model = Sequential()\n",
    "model.add(Activation('softmax'))\n",
    "model.add(Conv1D(filters=24,kernel_size=1))\n",
    "model.add(CuDNNLSTM(483,return_sequences=True))\n",
    "model.add(LeakyReLU(alpha=0.3))\n",
    "#model.add(Flatten())\n",
    "model.add(Dense(483))\n",
    "model.add(Activation('tanh'))\n",
    "model.add(Dense(y_train.shape[2],activation='sigmoid'))"
   ]
  },
  {
   "cell_type": "code",
   "execution_count": 23,
   "metadata": {},
   "outputs": [],
   "source": [
    "model.compile(metrics=['binary_accuracy','accuracy'],loss='binary_crossentropy',optimizer = 'adam')"
   ]
  },
  {
   "cell_type": "code",
   "execution_count": 24,
   "metadata": {},
   "outputs": [
    {
     "name": "stdout",
     "output_type": "stream",
     "text": [
      "WARNING:tensorflow:From /home/akshara/anaconda3/envs/mimic/lib/python3.7/site-packages/tensorflow/python/ops/nn_impl.py:180: add_dispatch_support.<locals>.wrapper (from tensorflow.python.ops.array_ops) is deprecated and will be removed in a future version.\n",
      "Instructions for updating:\n",
      "Use tf.where in 2.0, which has the same broadcast rule as np.where\n",
      "WARNING:tensorflow:From /home/akshara/anaconda3/envs/mimic/lib/python3.7/site-packages/keras/backend/tensorflow_backend.py:422: The name tf.global_variables is deprecated. Please use tf.compat.v1.global_variables instead.\n",
      "\n",
      "Train on 33174 samples, validate on 11058 samples\n",
      "Epoch 1/5\n",
      "33174/33174 [==============================] - 10s 295us/step - loss: 0.4729 - binary_accuracy: 0.7764 - accuracy: 0.7764 - val_loss: 0.5320 - val_binary_accuracy: 0.7268 - val_accuracy: 0.7268\n",
      "Epoch 2/5\n",
      "33174/33174 [==============================] - 5s 149us/step - loss: 0.4671 - binary_accuracy: 0.7773 - accuracy: 0.7773 - val_loss: 0.5198 - val_binary_accuracy: 0.7305 - val_accuracy: 0.7305\n",
      "Epoch 3/5\n",
      "33174/33174 [==============================] - 5s 159us/step - loss: 0.4665 - binary_accuracy: 0.7777 - accuracy: 0.7777 - val_loss: 0.5260 - val_binary_accuracy: 0.7426 - val_accuracy: 0.7426\n",
      "Epoch 4/5\n",
      "33174/33174 [==============================] - 5s 156us/step - loss: 0.4664 - binary_accuracy: 0.7778 - accuracy: 0.7778 - val_loss: 0.5275 - val_binary_accuracy: 0.7426 - val_accuracy: 0.7426\n",
      "Epoch 5/5\n",
      "33174/33174 [==============================] - 5s 150us/step - loss: 0.4663 - binary_accuracy: 0.7780 - accuracy: 0.7780 - val_loss: 0.5220 - val_binary_accuracy: 0.7426 - val_accuracy: 0.7426\n"
     ]
    },
    {
     "data": {
      "text/plain": [
       "<keras.callbacks.callbacks.History at 0x7f898806da50>"
      ]
     },
     "execution_count": 24,
     "metadata": {},
     "output_type": "execute_result"
    }
   ],
   "source": [
    "model.fit(x_train,y_train,epochs=5,batch_size=64,validation_split=0.25)"
   ]
  },
  {
   "cell_type": "code",
   "execution_count": 25,
   "metadata": {},
   "outputs": [
    {
     "name": "stdout",
     "output_type": "stream",
     "text": [
      "Model: \"sequential_1\"\n",
      "_________________________________________________________________\n",
      "Layer (type)                 Output Shape              Param #   \n",
      "=================================================================\n",
      "activation_1 (Activation)    (None, 1, 483)            0         \n",
      "_________________________________________________________________\n",
      "conv1d_1 (Conv1D)            (None, 1, 24)             11616     \n",
      "_________________________________________________________________\n",
      "cu_dnnlstm_1 (CuDNNLSTM)     (None, 1, 483)            983388    \n",
      "_________________________________________________________________\n",
      "leaky_re_lu_1 (LeakyReLU)    (None, 1, 483)            0         \n",
      "_________________________________________________________________\n",
      "dense_1 (Dense)              (None, 1, 483)            233772    \n",
      "_________________________________________________________________\n",
      "activation_2 (Activation)    (None, 1, 483)            0         \n",
      "_________________________________________________________________\n",
      "dense_2 (Dense)              (None, 1, 20)             9680      \n",
      "=================================================================\n",
      "Total params: 1,238,456\n",
      "Trainable params: 1,238,456\n",
      "Non-trainable params: 0\n",
      "_________________________________________________________________\n"
     ]
    }
   ],
   "source": [
    "model.summary()\n"
   ]
  },
  {
   "cell_type": "code",
   "execution_count": 26,
   "metadata": {},
   "outputs": [],
   "source": [
    "y_pred = model.predict(x_test)"
   ]
  },
  {
   "cell_type": "code",
   "execution_count": 27,
   "metadata": {
    "scrolled": true
   },
   "outputs": [
    {
     "data": {
      "text/plain": [
       "array([[[0.0437012 , 0.12655532, 0.56328416, ..., 0.3709634 ,\n",
       "         0.18347022, 0.5600896 ]],\n",
       "\n",
       "       [[0.0437012 , 0.12655532, 0.56328416, ..., 0.3709634 ,\n",
       "         0.18347022, 0.5600896 ]],\n",
       "\n",
       "       [[0.0437012 , 0.12655532, 0.56328416, ..., 0.3709634 ,\n",
       "         0.18347022, 0.5600896 ]],\n",
       "\n",
       "       ...,\n",
       "\n",
       "       [[0.0437012 , 0.12655532, 0.56328416, ..., 0.3709634 ,\n",
       "         0.18347022, 0.5600896 ]],\n",
       "\n",
       "       [[0.0437012 , 0.12655532, 0.56328416, ..., 0.3709634 ,\n",
       "         0.18347022, 0.5600896 ]],\n",
       "\n",
       "       [[0.0437012 , 0.12655532, 0.56328416, ..., 0.3709634 ,\n",
       "         0.18347022, 0.5600896 ]]], dtype=float32)"
      ]
     },
     "execution_count": 27,
     "metadata": {},
     "output_type": "execute_result"
    }
   ],
   "source": [
    "y_pred\n"
   ]
  },
  {
   "cell_type": "code",
   "execution_count": 32,
   "metadata": {},
   "outputs": [
    {
     "data": {
      "text/plain": [
       "(14744, 20)"
      ]
     },
     "execution_count": 32,
     "metadata": {},
     "output_type": "execute_result"
    }
   ],
   "source": [
    "y_pred.shape"
   ]
  },
  {
   "cell_type": "code",
   "execution_count": 28,
   "metadata": {},
   "outputs": [],
   "source": [
    "y_pred = np.argmax(y_pred,axis=1)"
   ]
  },
  {
   "cell_type": "code",
   "execution_count": 33,
   "metadata": {},
   "outputs": [
    {
     "data": {
      "text/plain": [
       "(14744, 20)"
      ]
     },
     "execution_count": 33,
     "metadata": {},
     "output_type": "execute_result"
    }
   ],
   "source": [
    "y_pred.shape"
   ]
  },
  {
   "cell_type": "code",
   "execution_count": 29,
   "metadata": {},
   "outputs": [
    {
     "data": {
      "text/plain": [
       "array([[0, 1, 1, ..., 1, 1, 0],\n",
       "       [0, 0, 0, ..., 0, 0, 1],\n",
       "       [0, 1, 0, ..., 0, 0, 1],\n",
       "       ...,\n",
       "       [0, 1, 1, ..., 1, 1, 1],\n",
       "       [0, 0, 1, ..., 1, 1, 0],\n",
       "       [0, 0, 0, ..., 1, 1, 1]])"
      ]
     },
     "execution_count": 29,
     "metadata": {},
     "output_type": "execute_result"
    }
   ],
   "source": [
    "y_test"
   ]
  },
  {
   "cell_type": "code",
   "execution_count": 30,
   "metadata": {},
   "outputs": [
    {
     "data": {
      "text/plain": [
       "array([[0, 0, 0, ..., 0, 0, 0],\n",
       "       [0, 0, 0, ..., 0, 0, 0],\n",
       "       [0, 0, 0, ..., 0, 0, 0],\n",
       "       ...,\n",
       "       [0, 0, 0, ..., 0, 0, 0],\n",
       "       [0, 0, 0, ..., 0, 0, 0],\n",
       "       [0, 0, 0, ..., 0, 0, 0]])"
      ]
     },
     "execution_count": 30,
     "metadata": {},
     "output_type": "execute_result"
    }
   ],
   "source": [
    "y_pred"
   ]
  },
  {
   "cell_type": "code",
   "execution_count": 31,
   "metadata": {},
   "outputs": [
    {
     "name": "stdout",
     "output_type": "stream",
     "text": [
      "0.0\n",
      "0.0\n",
      "0.5\n",
      "0.35929869777536627\n"
     ]
    }
   ],
   "source": [
    "from sklearn.metrics import jaccard_score,roc_auc_score,confusion_matrix,hamming_loss\n",
    "#cm = confusion_matrix(y_test,y_pred) \n",
    "#Classification metrics can't handle a mix of multilabel-indicator and unknown targets\n",
    "print(jaccard_score(y_test,y_pred,average='micro'))\n",
    "print(jaccard_score(y_test,y_pred,average='macro'))\n",
    "print(roc_auc_score(y_test,y_pred))\n",
    "print(hamming_loss(y_test,y_pred))\n"
   ]
  },
  {
   "cell_type": "code",
   "execution_count": null,
   "metadata": {},
   "outputs": [],
   "source": []
  },
  {
   "cell_type": "code",
   "execution_count": null,
   "metadata": {},
   "outputs": [],
   "source": []
  }
 ],
 "metadata": {
  "kernelspec": {
   "display_name": "Python (mimic)",
   "language": "python",
   "name": "myenv"
  },
  "language_info": {
   "codemirror_mode": {
    "name": "ipython",
    "version": 3
   },
   "file_extension": ".py",
   "mimetype": "text/x-python",
   "name": "python",
   "nbconvert_exporter": "python",
   "pygments_lexer": "ipython3",
   "version": "3.7.4"
  }
 },
 "nbformat": 4,
 "nbformat_minor": 2
}
